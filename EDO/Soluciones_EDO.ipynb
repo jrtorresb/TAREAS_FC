{
 "cells": [
  {
   "cell_type": "markdown",
   "id": "fd8572ba",
   "metadata": {},
   "source": [
    "# $\n",
    "\\color{blue}{\\text{Resposiciones y final}}\n",
    "$ "
   ]
  },
  {
   "cell_type": "markdown",
   "id": "77c10723",
   "metadata": {},
   "source": [
    "**Nombre:**                  \n",
    "**Reposiciones que presentaré:**\n",
    "\n",
    "**Instrucciones:** Constestar sólamente las preguntas de la(s) tarea(s) que se quieren reponer. Se pueden reponer 2 tareas máximo o resolver todo el examen en caso de hacer examen final. Si se repone una sola tarea, el tiempo límite son 2 horas. Si se reponen dos, 4 horas. En caso de hacer final tienen 6 horas para entregar el examen. En necesario entregarlo a tiempo para no perder puntos. Cada pregunta tiene el mismo puntaje.\n",
    "Recordatorio: la calificación de las reposiciones son las que se quedan al final. "
   ]
  },
  {
   "cell_type": "markdown",
   "id": "7d840e52",
   "metadata": {},
   "source": [
    "# $\\color{green}{\\text{Reposición 1}}$\n",
    "# $\\color{red}{\\text{Calificación:}}$"
   ]
  },
  {
   "cell_type": "markdown",
   "id": "cf9f5691",
   "metadata": {},
   "source": [
    "## Ejercicio 1\n",
    "\n",
    "Crear un programa que diga si un número es primo o no."
   ]
  },
  {
   "cell_type": "markdown",
   "id": "8cdd506d",
   "metadata": {},
   "source": [
    "## Ejercicio 2\n",
    "\n",
    "Crear una función $f(a)$ donde $a$ es un entero (positivo o negativo) y devuelva todos los divisores de $a$ "
   ]
  },
  {
   "cell_type": "markdown",
   "id": "9993abce",
   "metadata": {},
   "source": [
    "## Ejercicio 3\n",
    "\n",
    "Crear una función $f(a,b)$ donde $a,b\\in\\mathbb{Z}$ que diga a qué es congruente $a$ módulo $b$."
   ]
  },
  {
   "cell_type": "markdown",
   "id": "55f6fb39",
   "metadata": {},
   "source": [
    "## Ejercicio 4\n",
    "\n",
    "Crear una función $f(a,b,c)$ donde $a,b,c\\in\\mathbb{Z}$ que sume todos los números de $a$ hasta $b$ haciendo saltos de $c$ en $c$. Si no se pone nada en $c$ por default lo tendrá que hacer de 1 en 1. Si $a$ es mayor que $b$, deberá aparecer un mensaje que diga que $a$ debe ser menor a $b$."
   ]
  },
  {
   "cell_type": "markdown",
   "id": "41330647",
   "metadata": {},
   "source": [
    "# $\\color{green}{\\text{Reposición 2}}$\n",
    "# $\\color{red}{\\text{Calificación:}}$"
   ]
  },
  {
   "cell_type": "markdown",
   "id": "d359249a",
   "metadata": {},
   "source": [
    "## Ejercicio 1\n",
    "\n",
    "Escribir una función $f(v_1, v_2)$ donde $v_1,v_2\\in\\mathbb{R}^2$ que determine el área determinada por $v_1$ y $v_2$. Si los vectores son linealmente dependientes el programa debe arrojar un mensaje que de esta información."
   ]
  },
  {
   "cell_type": "markdown",
   "id": "4dc6a961",
   "metadata": {},
   "source": [
    "## Ejercicio 2\n",
    "\n",
    "Crear un programa que resuelva utilizando el método de Gauss una ecuación del siguiente tipo:\n",
    "\n",
    "$$\\begin{align*}\n",
    "a_{11}x_1 + a_{12}x_2 +a_{13}x_3 &= b_1\\\\\n",
    "a_{21}x_1 + a_{22}x_2 +a_{23}x_3 &= b_2\\\\\n",
    "a_{31}x_1 +a_{32}x_2+a_{33}x_3  &= b_3\n",
    "\\end{align*}$$\n",
    "\n",
    "Si el sistema no tiene solución el programa deberá arrojar un mensaje con esta información."
   ]
  },
  {
   "cell_type": "markdown",
   "id": "05084b57",
   "metadata": {},
   "source": [
    "# $\\color{green}{\\text{Reposición 3}}$\n",
    "# $\\color{red}{\\text{Calificación:}}$"
   ]
  },
  {
   "cell_type": "markdown",
   "id": "e13b8565",
   "metadata": {},
   "source": [
    "## Ejercicio 1\n",
    "\n",
    "Escribir una función $F(f,a)$ donde $f$ es una función mínimo 2 veces diferenciable y $a$ un real en el dominio de $f$, y que devuelva la primera derivada y la segunda derivada de $f$, así como la primera y la segunda derivada de $f$ evaluadas en $a$. La programación debe utilizar el método de diferencias finitas."
   ]
  },
  {
   "cell_type": "markdown",
   "id": "628738ea",
   "metadata": {},
   "source": [
    "## Ejercicio 2\n",
    "\n",
    "Escribir una función $I(f,a,b)$ donde $f$ es una función integrable en  $[a,b]$ $(a\\leq b)$ y que devuelva el valor de la integral evaluada en el intervalo $[a,b]$. En la programación se debe usar métodos numéricos (no usar sympy)."
   ]
  },
  {
   "cell_type": "markdown",
   "id": "4d425ec6",
   "metadata": {},
   "source": [
    "# $\\color{green}{\\text{Reposición 4}}$\n",
    "# $\\color{red}{\\text{Calificación:}}$"
   ]
  },
  {
   "cell_type": "code",
   "execution_count": 28,
   "id": "b388f88e",
   "metadata": {},
   "outputs": [],
   "source": [
    "# Importando las librerías a utilizar\n",
    "import numpy as np # Numerical python\n",
    "import matplotlib.pyplot as plt # Gráficas\n",
    "from scipy.integrate import odeint # Resvolver ecuaciones diferenciales\n",
    "from scipy.optimize import newton # Metodo de newton para ec"
   ]
  },
  {
   "cell_type": "markdown",
   "id": "37ed9ef4",
   "metadata": {},
   "source": [
    "## Ejercicio 1\n",
    "\n",
    "Resolver el siguiente problema de valor inicial:\n",
    "\n",
    "$$ y''-4y=12x;\\quad y(0)=4\\,\\,\\,y'(0)=1$$"
   ]
  },
  {
   "cell_type": "code",
   "execution_count": 29,
   "id": "7a94af1e",
   "metadata": {},
   "outputs": [
    {
     "data": {
      "image/png": "[encoded data removed]",
      "text/plain": [
       "<Figure size 720x504 with 1 Axes>"
      ]
     },
     "metadata": {
      "needs_background": "light"
     },
     "output_type": "display_data"
    }
   ],
   "source": [
    "# definimos el campo\n",
    "def diff(u,x):\n",
    "    return (u[1], 4*u[0] + 12*x)\n",
    "\n",
    "y0 = [4,1] # Vector de condiciones iniciales\n",
    "xs = np.linspace(0,10,200) # Variable x\n",
    "us = odeint(diff,y0,xs) # Se resuelve la ecuación con disparo\n",
    "ys = us[:,0] # Obtenemos la solución y(x)\n",
    "\n",
    "# Graficamos\n",
    "plt.figure(figsize=(10,7))\n",
    "plt.plot(xs, ys, '-')\n",
    "plt.plot(xs, ys, 'b*', label = \"Solución con odeint\")\n",
    "plt.xlabel(r\"$x$\")\n",
    "plt.ylabel(r\"$y$\")\n",
    "plt.title(\"Solucion\")\n",
    "plt.legend()\n",
    "plt.show()"
   ]
  },
  {
   "cell_type": "markdown",
   "id": "592b3cfc",
   "metadata": {},
   "source": [
    "## Ejercicio 2\n",
    "\n",
    "Utilizar los métodos del disparo y de diferencias finitas para resolver la siguiente EDO de con valores de frontera. \n",
    "\n",
    "$$ y''+2y'+y=0$$\n",
    "\n",
    "Graficar ambas soluciones y comparar con la solución exacta $y(x)=e^{-x}+(3e-1)xe^{-x}$."
   ]
  },
  {
   "cell_type": "code",
   "execution_count": 31,
   "id": "a9170cce",
   "metadata": {},
   "outputs": [
    {
     "data": {
      "image/png": "[encoded data removed]",
      "text/plain": [
       "<Figure size 720x504 with 1 Axes>"
      ]
     },
     "metadata": {
      "needs_background": "light"
     },
     "output_type": "display_data"
    }
   ],
   "source": [
    "# Se defina la funcion\n",
    "def shooting(dydx, x, x0, xf, shoot=None):\n",
    "    if shoot is None:\n",
    "        shoot = np.random.uniform(-20, 20)\n",
    "    F = lambda s, x0, xf, x: odeint(dydx, [x0, s], x)[-1, 0] - xf\n",
    "    shoot = newton(F, shoot, args=(x0, xf, x))\n",
    "    y = odeint(dydx, [x0, shoot], x)\n",
    "    return y[:, 0], shoot\n",
    "\n",
    "#Se define el campo\n",
    "func = lambda y, t: [y[1], -2*y[0]-y[0]]\n",
    "x = np.linspace(0, 1, 1000)\n",
    "y, shoot = shooting(func, x, 1, 3, shoot=-5)\n",
    "y1 = np.exp(-x) + (3*np.exp(1)-1)*x*np.exp(-x) #Solución Real\n",
    "\n",
    "#Gráficas\n",
    "plt.figure(figsize=(10,7))\n",
    "plt.plot(x, y, '--g', label = \"Solución Aproximadda\")\n",
    "plt.plot(x, y1, 'b-', label = \"Solución Real\")\n",
    "plt.plot()\n",
    "plt.xlabel(r\"$x$\")\n",
    "plt.ylabel(r\"$y$\")\n",
    "plt.title(\"Soluciones\")\n",
    "plt.legend()\n",
    "plt.show()\n"
   ]
  },
  {
   "cell_type": "markdown",
   "id": "8ef1ad53",
   "metadata": {},
   "source": [
    "# $\\color{green}{\\text{Reposición 5}}$\n",
    "# $\\color{red}{\\text{Calificación:}}$"
   ]
  },
  {
   "attachments": {
    "da62ca03-7c77-4028-98dd-fe119715de63.png": {
     "image/png": "[encoded data removed]"
    }
   },
   "cell_type": "markdown",
   "id": "7737e427",
   "metadata": {},
   "source": [
    "## Ejercicio 1\n",
    "\n",
    "Resolver la siguiente EDP:\n",
    "\n",
    "$$\\frac{\\partial^2 u}{\\partial t^2}=9\\frac{\\partial^2 u}{\\partial x^2} $$\n",
    "\n",
    "Esta ecuación representa el movimiento de una cuerda de longitud $L$ la cual supondremos igual a 1. Tenemos las condiciones siguientes: $u(0,t)=0$; $u(1,t)=0$ y además suponemos que en la posición inicial, jalamos la cuerda hacia abajo a un cuarto del total a una distancia de $0.25$. Suponemos que en el instante 0 soltamos la cuerda sin velocidad. \n",
    "\n",
    "Graficar la solución para diferentes tiempos $t$.\n",
    "\n",
    "![repo1.png](attachment:da62ca03-7c77-4028-98dd-fe119715de63.png)"
   ]
  },
  {
   "cell_type": "markdown",
   "id": "0cf7815e",
   "metadata": {},
   "source": [
    "## Ejercicio 2\n",
    "\n",
    "Crear un programa que resuelva cualquier EDP de tipo hiperbólico. (El usuario mete los datos en el programa)"
   ]
  },
  {
   "cell_type": "markdown",
   "id": "c2b764f6",
   "metadata": {},
   "source": [
    "# $\\color{green}{\\text{Reposición 6}}$\n",
    "# $\\color{red}{\\text{Calificación:}}$"
   ]
  },
  {
   "cell_type": "markdown",
   "id": "a420db91",
   "metadata": {},
   "source": [
    "## Ejercicio 1\n",
    "\n",
    "Investigar es histórico de la temperatura promedio en abril en la ciudad de México desde el año 1950 hasta 2022. Trazar una curva que pase por los datos de estos años haciendo saltos de 4 años (es decir, 1950, 1954, 1958 etc.) Concluir acerca de la tendencia de estos datos."
   ]
  },
  {
   "cell_type": "markdown",
   "id": "e2e65cf1",
   "metadata": {},
   "source": [
    "## Ejercicio 2\n",
    "\n",
    "Determinar el área de \"las islas\" con ayuda de la curva frontera de este espacio. Graficar esa curva."
   ]
  }
 ],
 "metadata": {
  "kernelspec": {
   "display_name": "Python 3 (ipykernel)",
   "language": "python",
   "name": "python3"
  },
  "language_info": {
   "codemirror_mode": {
    "name": "ipython",
    "version": 3
   },
   "file_extension": ".py",
   "mimetype": "text/x-python",
   "name": "python",
   "nbconvert_exporter": "python",
   "pygments_lexer": "ipython3",
   "version": "3.9.12"
  }
 },
 "nbformat": 4,
 "nbformat_minor": 5
}
